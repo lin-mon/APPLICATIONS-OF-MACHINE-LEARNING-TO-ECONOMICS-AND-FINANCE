{
 "cells": [
  {
   "cell_type": "markdown",
   "metadata": {},
   "source": [
    "## [20210317NOTES]"
   ]
  },
  {
   "cell_type": "markdown",
   "metadata": {},
   "source": [
    "#### NumPy\n",
    "NumPy is a Linear Algebra Library for Python. 使用python進行線性代數運算的模組\n",
    "\n",
    "#### Create an array\n",
    "numpy.array(object, dtype=None, copy=True, order='K', subok=False, ndmin=0)\n",
    "\n",
    "\n",
    "* np.arange\n",
    "* np.zeros\n",
    "* np.ones\n",
    "* np.eye\n",
    "* np.linspace\n",
    "* np.rand \n",
    "* np.randn\n",
    "* np.randint\n",
    "* np.ndim <br/>\n",
    "  陣列的維度\n",
    "* np.shape <br/> \n",
    "     陣列各維度的個數\n",
    "* np.dtype <br/> \n",
    "     陣列裡的元素型別\n",
    "* np.type <br/>\n",
    "     資料類型\n",
    "* np.astrpy <br/>\n",
    "     由字元或字串轉為數值"
   ]
  },
  {
   "cell_type": "markdown",
   "metadata": {},
   "source": [
    "#### import as a library\n",
    "import numpy as np\n",
    "\n",
    "* 一維陣列\n",
    "A = np.array([1,2,3])\n",
    "\n",
    "* 二維陣列 row=橫的，colume =直的\n",
    "np.array([[1,2,3],[4,5,6],[7,8,9]])\n",
    "\n",
    "* 矩陣計算  <br/>\n",
    "A+A  <br/>\n",
    "A*5  <br/> \n",
    "A*A (平方) \n",
    "\n",
    "B = np.array([[1],[2],[3]])  <br/>\n",
    "同個Column有3個row \n",
    "\n",
    "     \n",
    "- np.arrange(start, end, step) <br/> \n",
    "start及step可省略\n",
    "- np.arange(0,11,2) <br/> \n",
    "0~10 2個間隔\n",
    "- np.zeros(3) <br/> \n",
    "row裡面的3個0 \n",
    "- np.ones((4,5)) <br/>\n",
    "row 要 4 個1， C 5個1， +逗號區分r跟c \n",
    "- np.eye(4) \n",
    "- 數值平均分布的陣列 <br/>\n",
    "np.linspace(0, 5, 10)\n",
    "\n",
    "\n",
    "- ranarr = np.random.randint(0,50,10)   <br/>\n",
    "取十個 \n",
    "- ranarr.max()\n",
    "- ranarr.min()\n",
    "- ranarr.argmax() <br/>\n",
    "找出最大值位置 \n",
    "- ranarr.argmin() <br/>\n",
    "找出最小值位置 \n",
    "- ranarr.sum()\n",
    "- ranarr.mean()\n",
    "- ranarr.std()\n",
    "- np.sqrt(ranarr)\n",
    "- np.exp(ranarr)\n",
    "- np.power(ranarr)\n",
    "\n",
    "* Series 一維陣列資料結構  <br/>\n",
    "Series裡有兩個重要的屬性：索引鍵（index）和對應的值（values）。透過這兩個屬性可以取到Series裡的資料。 <br/>\n",
    "pd.Series([1,2,3,4],index = ['USA', 'Germany','USSR', 'Japan']) \n",
    "\n",
    "- ser[ser > 3] <br/>\n",
    "  只要序列>3的值 \n",
    "- ser.isnull() <br/>\n",
    " 是否為空值，回傳布林值\n",
    " \n",
    " \n",
    "- df.head()  <br/> \n",
    "叫出前5個 \n",
    "- df.describe() <br/>\n",
    "summary stastics count=>幾個變數 \n",
    "- df.sort_values(by='X')  <br/>\n",
    "用X排從小到大 ，調整INDEX位置  \n",
    "-  create a new column <br/>\n",
    " df['new'] = df['W'] + df['Y'] <br/>\n",
    "[]=>表一個COL\n",
    "\n",
    "- drop column(axis=1) <br/>\n",
    "df.drop('new',axis=1)\n",
    "\n",
    "- same as del df['new'] #永久取代NEW COL  永久置換<br/>\n",
    "df.drop('new',axis=1, inplace = True ) <br/>\n",
    "inplace = False by default \n",
    "\n",
    "- df.rename(index={'A':'CA', 'B':'NY', 'C':'WY', 'D':'OR', 'E':'CO'}, inplace=True) \n",
    "\n",
    "#### Selection \n",
    "列索引鍵取值, loc是location的縮寫, iloc是index location的縮寫\n",
    "\n",
    "df.loc[row, col] <br/>\n",
    "df.iloc[row, col] <br/>\n",
    "df[col] <br/>\n",
    "df[a:b] 使用row編號選取row <br/>\n",
    "df[col][row] <br/> \n",
    "\n",
    "#### Missing data 遺失值\n",
    "NaN（Not a number）在Python是一個特殊的值，只能用函數來檢查，不能用等號檢查，即使用np.NaN == np.NaN都是False\n",
    "\n",
    "- check for null value   <br/>\n",
    "df.isnull() <br/>\n",
    "\n",
    "- df.isnull().sum()\n",
    "\n",
    "- df.isnull().sum().sum()  <br/>\n",
    "幾個NAN \n",
    "\n",
    "#### Handle missing value  <br/>\n",
    "#一般遺失值在20%以下，會DROP掉，或取代，或填平均值  <br/>\n",
    " ignore <br/>\n",
    " drop <br/>\n",
    " fill in <br/>\n",
    "\n",
    "- Drop rows with NaN Values <br/>\n",
    "df.dropna() <br/> \n",
    "- df.fillna(value = 'replace') <br/>  \n",
    "- df['V'].fillna(value = df['V'].mean()) <br/> \n",
    "\n",
    "#### 簡單統計函數 <br/>\n",
    "df.max() 最大值 <br/>\n",
    "df.min() 最小值 <br/>\n",
    "df.sum() 總和 <br/>\n",
    "df.mean() 平均 <br/>\n",
    "df.median() 中位數 <br/>\n",
    "df.std() 標準差  <br/>\n",
    "\n"
   ]
  },
  {
   "cell_type": "markdown",
   "metadata": {},
   "source": [
    "### [20210317HW]"
   ]
  },
  {
   "cell_type": "markdown",
   "metadata": {},
   "source": [
    "1. 利用下面的資料建立DataFrame <br/>\n",
    "list1 = [[90, 60, 33], [50, 70, 75], [70, 90, 88], [80, 50, 60]] <br/>\n",
    "columns = ['Math', 'English', 'History'] <br/>\n",
    "index=['Simon','Allen','Jimmy','Peter']"
   ]
  },
  {
   "cell_type": "code",
   "execution_count": 151,
   "metadata": {
    "scrolled": true
   },
   "outputs": [
    {
     "data": {
      "text/html": [
       "<div>\n",
       "<style scoped>\n",
       "    .dataframe tbody tr th:only-of-type {\n",
       "        vertical-align: middle;\n",
       "    }\n",
       "\n",
       "    .dataframe tbody tr th {\n",
       "        vertical-align: top;\n",
       "    }\n",
       "\n",
       "    .dataframe thead th {\n",
       "        text-align: right;\n",
       "    }\n",
       "</style>\n",
       "<table border=\"1\" class=\"dataframe\">\n",
       "  <thead>\n",
       "    <tr style=\"text-align: right;\">\n",
       "      <th></th>\n",
       "      <th>Math</th>\n",
       "      <th>English</th>\n",
       "      <th>History</th>\n",
       "    </tr>\n",
       "  </thead>\n",
       "  <tbody>\n",
       "    <tr>\n",
       "      <th>Simon</th>\n",
       "      <td>90</td>\n",
       "      <td>60</td>\n",
       "      <td>33</td>\n",
       "    </tr>\n",
       "    <tr>\n",
       "      <th>Allen</th>\n",
       "      <td>50</td>\n",
       "      <td>70</td>\n",
       "      <td>75</td>\n",
       "    </tr>\n",
       "    <tr>\n",
       "      <th>Jimmy</th>\n",
       "      <td>70</td>\n",
       "      <td>90</td>\n",
       "      <td>88</td>\n",
       "    </tr>\n",
       "    <tr>\n",
       "      <th>Peter</th>\n",
       "      <td>80</td>\n",
       "      <td>50</td>\n",
       "      <td>60</td>\n",
       "    </tr>\n",
       "  </tbody>\n",
       "</table>\n",
       "</div>"
      ],
      "text/plain": [
       "       Math  English  History\n",
       "Simon    90       60       33\n",
       "Allen    50       70       75\n",
       "Jimmy    70       90       88\n",
       "Peter    80       50       60"
      ]
     },
     "execution_count": 151,
     "metadata": {},
     "output_type": "execute_result"
    }
   ],
   "source": [
    "import pandas as pd\n",
    "df = pd.DataFrame([[90, 60, 33], [50, 70, 75], [70, 90, 88], [80, 50, 60]],\n",
    "                  index=['Simon','Allen','Jimmy','Peter'],\n",
    "                  columns=['Math', 'English', 'History'])\n",
    "df"
   ]
  },
  {
   "cell_type": "markdown",
   "metadata": {},
   "source": [
    "\n",
    "2. 取出數學>60 且英文>85 的資料, 並以DataFrame的方式呈現"
   ]
  },
  {
   "cell_type": "code",
   "execution_count": 86,
   "metadata": {},
   "outputs": [
    {
     "data": {
      "text/html": [
       "<div>\n",
       "<style scoped>\n",
       "    .dataframe tbody tr th:only-of-type {\n",
       "        vertical-align: middle;\n",
       "    }\n",
       "\n",
       "    .dataframe tbody tr th {\n",
       "        vertical-align: top;\n",
       "    }\n",
       "\n",
       "    .dataframe thead th {\n",
       "        text-align: right;\n",
       "    }\n",
       "</style>\n",
       "<table border=\"1\" class=\"dataframe\">\n",
       "  <thead>\n",
       "    <tr style=\"text-align: right;\">\n",
       "      <th></th>\n",
       "      <th>Math</th>\n",
       "      <th>English</th>\n",
       "      <th>History</th>\n",
       "    </tr>\n",
       "  </thead>\n",
       "  <tbody>\n",
       "    <tr>\n",
       "      <th>Jimmy</th>\n",
       "      <td>70</td>\n",
       "      <td>90</td>\n",
       "      <td>88</td>\n",
       "    </tr>\n",
       "  </tbody>\n",
       "</table>\n",
       "</div>"
      ],
      "text/plain": [
       "       Math  English  History\n",
       "Jimmy    70       90       88"
      ]
     },
     "execution_count": 86,
     "metadata": {},
     "output_type": "execute_result"
    }
   ],
   "source": [
    "df[df['Math'] > 60] \n",
    "df[df['English'] > 85]"
   ]
  },
  {
   "cell_type": "code",
   "execution_count": 158,
   "metadata": {},
   "outputs": [
    {
     "data": {
      "text/html": [
       "<div>\n",
       "<style scoped>\n",
       "    .dataframe tbody tr th:only-of-type {\n",
       "        vertical-align: middle;\n",
       "    }\n",
       "\n",
       "    .dataframe tbody tr th {\n",
       "        vertical-align: top;\n",
       "    }\n",
       "\n",
       "    .dataframe thead th {\n",
       "        text-align: right;\n",
       "    }\n",
       "</style>\n",
       "<table border=\"1\" class=\"dataframe\">\n",
       "  <thead>\n",
       "    <tr style=\"text-align: right;\">\n",
       "      <th></th>\n",
       "      <th>Math</th>\n",
       "      <th>English</th>\n",
       "      <th>History</th>\n",
       "    </tr>\n",
       "  </thead>\n",
       "  <tbody>\n",
       "    <tr>\n",
       "      <th>Jimmy</th>\n",
       "      <td>70</td>\n",
       "      <td>90</td>\n",
       "      <td>88</td>\n",
       "    </tr>\n",
       "  </tbody>\n",
       "</table>\n",
       "</div>"
      ],
      "text/plain": [
       "       Math  English  History\n",
       "Jimmy    70       90       88"
      ]
     },
     "execution_count": 158,
     "metadata": {},
     "output_type": "execute_result"
    }
   ],
   "source": [
    "df[ (df['Math'] > 60) & (df['English'] > 85) ] \n"
   ]
  },
  {
   "cell_type": "markdown",
   "metadata": {},
   "source": [
    "3. 計算各科的平均數"
   ]
  },
  {
   "cell_type": "code",
   "execution_count": 87,
   "metadata": {},
   "outputs": [
    {
     "data": {
      "text/html": [
       "<div>\n",
       "<style scoped>\n",
       "    .dataframe tbody tr th:only-of-type {\n",
       "        vertical-align: middle;\n",
       "    }\n",
       "\n",
       "    .dataframe tbody tr th {\n",
       "        vertical-align: top;\n",
       "    }\n",
       "\n",
       "    .dataframe thead th {\n",
       "        text-align: right;\n",
       "    }\n",
       "</style>\n",
       "<table border=\"1\" class=\"dataframe\">\n",
       "  <thead>\n",
       "    <tr style=\"text-align: right;\">\n",
       "      <th></th>\n",
       "      <th>mean</th>\n",
       "    </tr>\n",
       "  </thead>\n",
       "  <tbody>\n",
       "    <tr>\n",
       "      <th>Math</th>\n",
       "      <td>72.5</td>\n",
       "    </tr>\n",
       "    <tr>\n",
       "      <th>English</th>\n",
       "      <td>67.5</td>\n",
       "    </tr>\n",
       "    <tr>\n",
       "      <th>History</th>\n",
       "      <td>64.0</td>\n",
       "    </tr>\n",
       "  </tbody>\n",
       "</table>\n",
       "</div>"
      ],
      "text/plain": [
       "         mean\n",
       "Math     72.5\n",
       "English  67.5\n",
       "History  64.0"
      ]
     },
     "execution_count": 87,
     "metadata": {},
     "output_type": "execute_result"
    }
   ],
   "source": [
    "df = pd.DataFrame([df['Math'].mean(),df['English'].mean(),df['History'].mean()],\n",
    "                  index = ['Math', 'English','History'],\n",
    "                  columns=['mean'])\n",
    "df"
   ]
  },
  {
   "cell_type": "markdown",
   "metadata": {},
   "source": [
    "4. 依各科分數來個別排名"
   ]
  },
  {
   "cell_type": "code",
   "execution_count": 125,
   "metadata": {},
   "outputs": [
    {
     "data": {
      "text/plain": [
       "Simon    1.0\n",
       "Allen    4.0\n",
       "Jimmy    3.0\n",
       "Peter    2.0\n",
       "Name: Math, dtype: float64"
      ]
     },
     "execution_count": 125,
     "metadata": {},
     "output_type": "execute_result"
    }
   ],
   "source": [
    "df['Math'].rank(ascending=False)"
   ]
  },
  {
   "cell_type": "code",
   "execution_count": 126,
   "metadata": {
    "scrolled": true
   },
   "outputs": [
    {
     "data": {
      "text/plain": [
       "Simon    3.0\n",
       "Allen    2.0\n",
       "Jimmy    1.0\n",
       "Peter    4.0\n",
       "Name: English, dtype: float64"
      ]
     },
     "execution_count": 126,
     "metadata": {},
     "output_type": "execute_result"
    }
   ],
   "source": [
    "df['English'].rank(ascending=False)"
   ]
  },
  {
   "cell_type": "code",
   "execution_count": 129,
   "metadata": {},
   "outputs": [
    {
     "data": {
      "text/plain": [
       "Simon    4.0\n",
       "Allen    2.0\n",
       "Jimmy    1.0\n",
       "Peter    3.0\n",
       "Name: History, dtype: float64"
      ]
     },
     "execution_count": 129,
     "metadata": {},
     "output_type": "execute_result"
    }
   ],
   "source": [
    "df['History'].rank(ascending=False)"
   ]
  },
  {
   "cell_type": "code",
   "execution_count": 128,
   "metadata": {},
   "outputs": [
    {
     "data": {
      "text/html": [
       "<div>\n",
       "<style scoped>\n",
       "    .dataframe tbody tr th:only-of-type {\n",
       "        vertical-align: middle;\n",
       "    }\n",
       "\n",
       "    .dataframe tbody tr th {\n",
       "        vertical-align: top;\n",
       "    }\n",
       "\n",
       "    .dataframe thead th {\n",
       "        text-align: right;\n",
       "    }\n",
       "</style>\n",
       "<table border=\"1\" class=\"dataframe\">\n",
       "  <thead>\n",
       "    <tr style=\"text-align: right;\">\n",
       "      <th></th>\n",
       "      <th>Math</th>\n",
       "      <th>English</th>\n",
       "      <th>History</th>\n",
       "      <th>Gender</th>\n",
       "    </tr>\n",
       "  </thead>\n",
       "  <tbody>\n",
       "    <tr>\n",
       "      <th>Allen</th>\n",
       "      <td>50</td>\n",
       "      <td>70</td>\n",
       "      <td>75</td>\n",
       "      <td>F</td>\n",
       "    </tr>\n",
       "    <tr>\n",
       "      <th>Jimmy</th>\n",
       "      <td>70</td>\n",
       "      <td>90</td>\n",
       "      <td>88</td>\n",
       "      <td>M</td>\n",
       "    </tr>\n",
       "    <tr>\n",
       "      <th>Peter</th>\n",
       "      <td>80</td>\n",
       "      <td>50</td>\n",
       "      <td>60</td>\n",
       "      <td>M</td>\n",
       "    </tr>\n",
       "    <tr>\n",
       "      <th>Simon</th>\n",
       "      <td>90</td>\n",
       "      <td>60</td>\n",
       "      <td>33</td>\n",
       "      <td>M</td>\n",
       "    </tr>\n",
       "  </tbody>\n",
       "</table>\n",
       "</div>"
      ],
      "text/plain": [
       "       Math  English  History Gender\n",
       "Allen    50       70       75      F\n",
       "Jimmy    70       90       88      M\n",
       "Peter    80       50       60      M\n",
       "Simon    90       60       33      M"
      ]
     },
     "execution_count": 128,
     "metadata": {},
     "output_type": "execute_result"
    }
   ],
   "source": [
    "df.sort_values(by='Math') "
   ]
  },
  {
   "cell_type": "code",
   "execution_count": 98,
   "metadata": {},
   "outputs": [
    {
     "data": {
      "text/html": [
       "<div>\n",
       "<style scoped>\n",
       "    .dataframe tbody tr th:only-of-type {\n",
       "        vertical-align: middle;\n",
       "    }\n",
       "\n",
       "    .dataframe tbody tr th {\n",
       "        vertical-align: top;\n",
       "    }\n",
       "\n",
       "    .dataframe thead th {\n",
       "        text-align: right;\n",
       "    }\n",
       "</style>\n",
       "<table border=\"1\" class=\"dataframe\">\n",
       "  <thead>\n",
       "    <tr style=\"text-align: right;\">\n",
       "      <th></th>\n",
       "      <th>Math</th>\n",
       "      <th>English</th>\n",
       "      <th>History</th>\n",
       "    </tr>\n",
       "  </thead>\n",
       "  <tbody>\n",
       "    <tr>\n",
       "      <th>Peter</th>\n",
       "      <td>80</td>\n",
       "      <td>50</td>\n",
       "      <td>60</td>\n",
       "    </tr>\n",
       "    <tr>\n",
       "      <th>Simon</th>\n",
       "      <td>90</td>\n",
       "      <td>60</td>\n",
       "      <td>33</td>\n",
       "    </tr>\n",
       "    <tr>\n",
       "      <th>Allen</th>\n",
       "      <td>50</td>\n",
       "      <td>70</td>\n",
       "      <td>75</td>\n",
       "    </tr>\n",
       "    <tr>\n",
       "      <th>Jimmy</th>\n",
       "      <td>70</td>\n",
       "      <td>90</td>\n",
       "      <td>88</td>\n",
       "    </tr>\n",
       "  </tbody>\n",
       "</table>\n",
       "</div>"
      ],
      "text/plain": [
       "       Math  English  History\n",
       "Peter    80       50       60\n",
       "Simon    90       60       33\n",
       "Allen    50       70       75\n",
       "Jimmy    70       90       88"
      ]
     },
     "execution_count": 98,
     "metadata": {},
     "output_type": "execute_result"
    }
   ],
   "source": [
    "df.sort_values(by='English')"
   ]
  },
  {
   "cell_type": "code",
   "execution_count": 100,
   "metadata": {},
   "outputs": [
    {
     "data": {
      "text/html": [
       "<div>\n",
       "<style scoped>\n",
       "    .dataframe tbody tr th:only-of-type {\n",
       "        vertical-align: middle;\n",
       "    }\n",
       "\n",
       "    .dataframe tbody tr th {\n",
       "        vertical-align: top;\n",
       "    }\n",
       "\n",
       "    .dataframe thead th {\n",
       "        text-align: right;\n",
       "    }\n",
       "</style>\n",
       "<table border=\"1\" class=\"dataframe\">\n",
       "  <thead>\n",
       "    <tr style=\"text-align: right;\">\n",
       "      <th></th>\n",
       "      <th>Math</th>\n",
       "      <th>English</th>\n",
       "      <th>History</th>\n",
       "    </tr>\n",
       "  </thead>\n",
       "  <tbody>\n",
       "    <tr>\n",
       "      <th>Simon</th>\n",
       "      <td>90</td>\n",
       "      <td>60</td>\n",
       "      <td>33</td>\n",
       "    </tr>\n",
       "    <tr>\n",
       "      <th>Peter</th>\n",
       "      <td>80</td>\n",
       "      <td>50</td>\n",
       "      <td>60</td>\n",
       "    </tr>\n",
       "    <tr>\n",
       "      <th>Allen</th>\n",
       "      <td>50</td>\n",
       "      <td>70</td>\n",
       "      <td>75</td>\n",
       "    </tr>\n",
       "    <tr>\n",
       "      <th>Jimmy</th>\n",
       "      <td>70</td>\n",
       "      <td>90</td>\n",
       "      <td>88</td>\n",
       "    </tr>\n",
       "  </tbody>\n",
       "</table>\n",
       "</div>"
      ],
      "text/plain": [
       "       Math  English  History\n",
       "Simon    90       60       33\n",
       "Peter    80       50       60\n",
       "Allen    50       70       75\n",
       "Jimmy    70       90       88"
      ]
     },
     "execution_count": 100,
     "metadata": {},
     "output_type": "execute_result"
    }
   ],
   "source": [
    "df.sort_values(by='History')"
   ]
  },
  {
   "cell_type": "markdown",
   "metadata": {},
   "source": [
    "5. 新增性別資料\n",
    "Gender = ['M'.'F','M','M']"
   ]
  },
  {
   "cell_type": "code",
   "execution_count": 147,
   "metadata": {},
   "outputs": [
    {
     "data": {
      "text/html": [
       "<div>\n",
       "<style scoped>\n",
       "    .dataframe tbody tr th:only-of-type {\n",
       "        vertical-align: middle;\n",
       "    }\n",
       "\n",
       "    .dataframe tbody tr th {\n",
       "        vertical-align: top;\n",
       "    }\n",
       "\n",
       "    .dataframe thead th {\n",
       "        text-align: right;\n",
       "    }\n",
       "</style>\n",
       "<table border=\"1\" class=\"dataframe\">\n",
       "  <thead>\n",
       "    <tr style=\"text-align: right;\">\n",
       "      <th></th>\n",
       "      <th>Math</th>\n",
       "      <th>English</th>\n",
       "      <th>History</th>\n",
       "      <th>Gender</th>\n",
       "    </tr>\n",
       "  </thead>\n",
       "  <tbody>\n",
       "    <tr>\n",
       "      <th>Simon</th>\n",
       "      <td>90</td>\n",
       "      <td>60</td>\n",
       "      <td>33</td>\n",
       "      <td>M</td>\n",
       "    </tr>\n",
       "    <tr>\n",
       "      <th>Allen</th>\n",
       "      <td>50</td>\n",
       "      <td>70</td>\n",
       "      <td>75</td>\n",
       "      <td>F</td>\n",
       "    </tr>\n",
       "    <tr>\n",
       "      <th>Jimmy</th>\n",
       "      <td>70</td>\n",
       "      <td>90</td>\n",
       "      <td>88</td>\n",
       "      <td>M</td>\n",
       "    </tr>\n",
       "    <tr>\n",
       "      <th>Peter</th>\n",
       "      <td>80</td>\n",
       "      <td>50</td>\n",
       "      <td>60</td>\n",
       "      <td>M</td>\n",
       "    </tr>\n",
       "  </tbody>\n",
       "</table>\n",
       "</div>"
      ],
      "text/plain": [
       "       Math  English  History Gender\n",
       "Simon    90       60       33      M\n",
       "Allen    50       70       75      F\n",
       "Jimmy    70       90       88      M\n",
       "Peter    80       50       60      M"
      ]
     },
     "execution_count": 147,
     "metadata": {},
     "output_type": "execute_result"
    }
   ],
   "source": [
    "df['Gender']=['M','F','M','M']\n",
    "df"
   ]
  },
  {
   "cell_type": "markdown",
   "metadata": {},
   "source": [
    "6. 性別的類別各出現幾次？"
   ]
  },
  {
   "cell_type": "code",
   "execution_count": 148,
   "metadata": {},
   "outputs": [
    {
     "data": {
      "text/plain": [
       "M    3\n",
       "F    1\n",
       "Name: Gender, dtype: int64"
      ]
     },
     "execution_count": 148,
     "metadata": {},
     "output_type": "execute_result"
    }
   ],
   "source": [
    "df['Gender'].value_counts() "
   ]
  },
  {
   "cell_type": "markdown",
   "metadata": {},
   "source": [
    "7. 算出每位同學的平均分數，再用平均分數排名"
   ]
  },
  {
   "cell_type": "code",
   "execution_count": 124,
   "metadata": {},
   "outputs": [
    {
     "name": "stdout",
     "output_type": "stream",
     "text": [
      "Simon    61.000000\n",
      "Allen    65.000000\n",
      "Jimmy    82.666667\n",
      "Peter    63.333333\n",
      "dtype: float64\n"
     ]
    },
    {
     "data": {
      "text/plain": [
       "Simon    4.0\n",
       "Allen    2.0\n",
       "Jimmy    1.0\n",
       "Peter    3.0\n",
       "dtype: float64"
      ]
     },
     "execution_count": 124,
     "metadata": {},
     "output_type": "execute_result"
    }
   ],
   "source": [
    "means=df.mean(axis=1)\n",
    "print(means)\n",
    "means.rank(ascending=False)"
   ]
  }
 ],
 "metadata": {
  "kernelspec": {
   "display_name": "Python 3",
   "language": "python",
   "name": "python3"
  },
  "language_info": {
   "codemirror_mode": {
    "name": "ipython",
    "version": 3
   },
   "file_extension": ".py",
   "mimetype": "text/x-python",
   "name": "python",
   "nbconvert_exporter": "python",
   "pygments_lexer": "ipython3",
   "version": "3.8.5"
  }
 },
 "nbformat": 4,
 "nbformat_minor": 4
}
