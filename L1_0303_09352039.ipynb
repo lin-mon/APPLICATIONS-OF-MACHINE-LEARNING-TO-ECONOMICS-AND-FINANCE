{
 "cells": [
  {
   "cell_type": "markdown",
   "metadata": {},
   "source": [
    "## Note "
   ]
  },
  {
   "cell_type": "markdown",
   "metadata": {},
   "source": [
    "Algorithm\n",
    "-Supervised\n",
    "-Unsupervised\n",
    "-Reinforcement\n",
    "\n",
    "\n",
    "### 監督式學習 (Supervised)\n",
    "y=a+bx+...\n",
    "-Labeled data (x)\n",
    "-Predict outcome / future (y)\n",
    "\n",
    "包括:\n",
    "* Regression(有x.y)=>沒有任何限制\n",
    "* Classification =>  y只有0/1(單純預測)\n",
    "\n",
    "\n",
    "\n",
    "### 非監督式學習 (Supervised)\n",
    "沒有y只有x(feature)\n",
    "EX.需求曲線(廠商想知道每個仁願意支付的價格，\n",
    "針對不同族群差別取價，廠商獲利會增加(挖掘更多利潤)\n",
    "\n",
    "包括:\n",
    "* Clustering \n",
    "(推薦類似商品給你)\n",
    "Recommender System\n",
    "Targeted Marketing\n",
    "Customer Segmentation\n",
    "\n",
    "* Dimensionality Reduction\n",
    "Meaningful Compression\n",
    "Structure Discovery\n",
    "Feature Elicitation\n",
    "\n",
    "\n",
    "### 強化學習 (Reinforcement)\n",
    "\n",
    "\n",
    "#### install package 指令\n",
    "    !pip install packagename\n",
    "\n",
    "\n",
    "#### 關檔案不可以直接關\n",
    "要按 Ctrl + C (save and quit)\n",
    "\n",
    "#### 看等案路徑\n",
    "import os\n",
    "os.getcwd()  \n",
    "\n",
    "#### 算數運算子\n",
    "Addition 加 +\n",
    "Subtraction 減 -\n",
    "Multiplication 乘 *\n",
    "Division 除 /\n",
    "Modulus 取餘數 %\n",
    "Power 次方 **\n",
    "Floor Division 取商數 //\n",
    "\n",
    "#### 物件的資料型態\n",
    "- 數值(numeric)\n",
    "x (int) 整數\n",
    "x.x (float) 浮點數\n",
    "True / False (Booleans) 布林值\n",
    "\n",
    "- 字串 (string)\n",
    "'x' (str) 字串\n",
    "\n",
    "- 判斷資料型態:type() \n",
    "\n",
    "\n",
    "#### Object's Type 物件的資料型態\n",
    "* Sequences 序列\n",
    "\n",
    "- list 串列　\n",
    "- tuple 元組　\n",
    "原生資料結構通常是元祖　\n",
    "內容不可變更（immutable) 保持原始資料的最好方式 \n",
    "運用( )來創建\n",
    "- Sets 集合\n",
    "無序且元素唯一 (不重複) \n",
    "- Dictionaries(Dict) 字典　\n",
    "key-value pairs 鍵值對, 以冒號來分隔鍵與值\n",
    "運用｛　｝來建構"
   ]
  },
  {
   "cell_type": "code",
   "execution_count": 1,
   "metadata": {},
   "outputs": [
    {
     "name": "stdout",
     "output_type": "stream",
     "text": [
      "Hello World!\n"
     ]
    }
   ],
   "source": [
    "print('Hello World!')"
   ]
  },
  {
   "cell_type": "code",
   "execution_count": 5,
   "metadata": {},
   "outputs": [
    {
     "name": "stdout",
     "output_type": "stream",
     "text": [
      "['a', 'b', 'c']\n",
      "a\n",
      "c\n"
     ]
    }
   ],
   "source": [
    "l = ['a','b','c']\n",
    "print(l) #or L \n",
    "print(l[0])\n",
    "print(l[-1]) #倒數第一"
   ]
  },
  {
   "cell_type": "code",
   "execution_count": 6,
   "metadata": {},
   "outputs": [
    {
     "data": {
      "text/plain": [
       "['NEW', 'b', 'c']"
      ]
     },
     "execution_count": 6,
     "metadata": {},
     "output_type": "execute_result"
    }
   ],
   "source": [
    "l[0] = 'NEW'\n",
    "l\n",
    "#原始檔要保存 "
   ]
  },
  {
   "cell_type": "code",
   "execution_count": 8,
   "metadata": {},
   "outputs": [
    {
     "data": {
      "text/plain": [
       "['NEW']"
      ]
     },
     "execution_count": 8,
     "metadata": {},
     "output_type": "execute_result"
    }
   ],
   "source": [
    "l[1:]\n",
    "l[:1] #顯示第一個位置之前(不包含第一個)"
   ]
  },
  {
   "cell_type": "code",
   "execution_count": null,
   "metadata": {},
   "outputs": [],
   "source": [
    "l[1:7:2]  \n",
    "#list[start:end:step]\n",
    "#1-7每兩個跳一個 "
   ]
  },
  {
   "cell_type": "code",
   "execution_count": null,
   "metadata": {},
   "outputs": [],
   "source": [
    "l.append('d')"
   ]
  },
  {
   "cell_type": "code",
   "execution_count": null,
   "metadata": {},
   "outputs": [],
   "source": [
    "l.extend([1,2,3])"
   ]
  },
  {
   "cell_type": "code",
   "execution_count": null,
   "metadata": {},
   "outputs": [],
   "source": [
    "len(l)"
   ]
  },
  {
   "cell_type": "code",
   "execution_count": null,
   "metadata": {},
   "outputs": [],
   "source": [
    "t = (1,2,3)\n",
    "t[0] #tuple 資料不可變更 "
   ]
  },
  {
   "cell_type": "code",
   "execution_count": 11,
   "metadata": {},
   "outputs": [],
   "source": [
    "str = 'Hello! My Name Is Shelly'"
   ]
  },
  {
   "cell_type": "code",
   "execution_count": 12,
   "metadata": {},
   "outputs": [
    {
     "data": {
      "text/plain": [
       "['Hello!', 'My', 'Name', 'Is', 'Shelly']"
      ]
     },
     "execution_count": 12,
     "metadata": {},
     "output_type": "execute_result"
    }
   ],
   "source": [
    "str.split()"
   ]
  },
  {
   "cell_type": "code",
   "execution_count": 13,
   "metadata": {},
   "outputs": [
    {
     "data": {
      "text/plain": [
       "['Hello', ' My Name Is Shelly']"
      ]
     },
     "execution_count": 13,
     "metadata": {},
     "output_type": "execute_result"
    }
   ],
   "source": [
    "str.split('!')"
   ]
  },
  {
   "cell_type": "markdown",
   "metadata": {},
   "source": [
    "# HW-1 "
   ]
  },
  {
   "cell_type": "code",
   "execution_count": 14,
   "metadata": {},
   "outputs": [],
   "source": [
    "list_1=['a','b','c','d']"
   ]
  },
  {
   "cell_type": "code",
   "execution_count": 15,
   "metadata": {},
   "outputs": [
    {
     "data": {
      "text/plain": [
       "['a', 'b', 'c', 'd']"
      ]
     },
     "execution_count": 15,
     "metadata": {},
     "output_type": "execute_result"
    }
   ],
   "source": [
    "list_1"
   ]
  },
  {
   "cell_type": "code",
   "execution_count": 16,
   "metadata": {},
   "outputs": [
    {
     "data": {
      "text/plain": [
       "['a',\n",
       " 'b',\n",
       " 'c',\n",
       " 'd',\n",
       " 'a',\n",
       " 'b',\n",
       " 'c',\n",
       " 'd',\n",
       " 'a',\n",
       " 'b',\n",
       " 'c',\n",
       " 'd',\n",
       " 'a',\n",
       " 'b',\n",
       " 'c',\n",
       " 'd',\n",
       " 'a',\n",
       " 'b',\n",
       " 'c',\n",
       " 'd']"
      ]
     },
     "execution_count": 16,
     "metadata": {},
     "output_type": "execute_result"
    }
   ],
   "source": [
    "list_1*5"
   ]
  },
  {
   "cell_type": "code",
   "execution_count": 17,
   "metadata": {},
   "outputs": [
    {
     "data": {
      "text/plain": [
       "['d', 'c', 'b', 'a']"
      ]
     },
     "execution_count": 17,
     "metadata": {},
     "output_type": "execute_result"
    }
   ],
   "source": [
    "list_1.reverse()\n",
    "list_1"
   ]
  },
  {
   "cell_type": "code",
   "execution_count": 18,
   "metadata": {},
   "outputs": [
    {
     "data": {
      "text/plain": [
       "['d', 'b', 'a']"
      ]
     },
     "execution_count": 18,
     "metadata": {},
     "output_type": "execute_result"
    }
   ],
   "source": [
    "list_1.remove('c')\n",
    "list_1"
   ]
  },
  {
   "cell_type": "code",
   "execution_count": 19,
   "metadata": {},
   "outputs": [
    {
     "data": {
      "text/plain": [
       "['d', 'f', 'b', 'a']"
      ]
     },
     "execution_count": 19,
     "metadata": {},
     "output_type": "execute_result"
    }
   ],
   "source": [
    "list_1.insert(1,'f')\n",
    "list_1"
   ]
  },
  {
   "cell_type": "markdown",
   "metadata": {},
   "source": [
    "# HW-2 "
   ]
  },
  {
   "cell_type": "code",
   "execution_count": 24,
   "metadata": {},
   "outputs": [
    {
     "name": "stdout",
     "output_type": "stream",
     "text": [
      "教學詳細，老師很有耐心，謝謝老師給外系學生學習的機會, 讓我可以重新複習python的語法！\n"
     ]
    }
   ],
   "source": [
    "print('教學詳細，老師很有耐心，謝謝老師給外系學生學習的機會, \\\n",
    "讓我可以重新複習python的語法！') "
   ]
  },
  {
   "cell_type": "code",
   "execution_count": null,
   "metadata": {},
   "outputs": [],
   "source": []
  }
 ],
 "metadata": {
  "kernelspec": {
   "display_name": "Python 3",
   "language": "python",
   "name": "python3"
  },
  "language_info": {
   "codemirror_mode": {
    "name": "ipython",
    "version": 3
   },
   "file_extension": ".py",
   "mimetype": "text/x-python",
   "name": "python",
   "nbconvert_exporter": "python",
   "pygments_lexer": "ipython3",
   "version": "3.8.3"
  }
 },
 "nbformat": 4,
 "nbformat_minor": 4
}
