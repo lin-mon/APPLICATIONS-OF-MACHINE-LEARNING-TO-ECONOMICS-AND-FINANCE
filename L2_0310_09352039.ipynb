{
 "cells": [
  {
   "cell_type": "markdown",
   "metadata": {},
   "source": [
    "# [2021/03/10 NOTES]"
   ]
  },
  {
   "cell_type": "markdown",
   "metadata": {},
   "source": [
    "#### if Statements 條件敘述\n",
    "if condition:\n",
    "    statement(s) \n",
    "    \n",
    "#### if, elif, else Statements 條件敘述\n",
    "if condition1:\n",
    "    statement1\n",
    "elif condition2:\n",
    "    statement2\n",
    "elif condition3:\n",
    "    statement3\n",
    " ...\n",
    " else:\n",
    "    statement(n+1)\n",
    "    \n",
    "* 最後一定要加esle，且直接加: 不加敘述。\n",
    "\n",
    "#### range()\n",
    "1. range(n), 從0到n-1\n",
    "2. range(initial value, end value, step value)\n",
    "    從initial value到end value間隔step value, step預設為1, step為1時可以不輸入\n",
    "    \n",
    "### for 迴圈敘述\n",
    "for var in range(initial value, end value, step value):\n",
    "    statement1\n",
    " [else:\n",
    "    statement2] \n",
    "    \n",
    " []=>可以自己加條件，不加也可以。\n",
    " \n",
    "#### \n",
    "a += b => a = a + b\n",
    " \n",
    " \n",
    "#### while 迴圈敘述\n",
    "while condition:\n",
    "    statement1\n",
    " [else:\n",
    "    statement2]\n",
    "    \n",
    "* for 和 while 反覆執行直到終止條件成立才會離開迴圈\n",
    "\n",
    "#### help(函數) \n",
    "\n",
    "#### functions 使用者函數\n",
    "def functionName (parameter1, parameter2, parameter3...):\n",
    "    statements\n",
    "    [return / return value]\n",
    "\n",
    "* return : 函數執行完後回傳內容。\n",
    "\n",
    "#### # random 隨機數函式\n",
    "import random"
   ]
  },
  {
   "cell_type": "code",
   "execution_count": null,
   "metadata": {},
   "outputs": [],
   "source": [
    "#debug=>不能用&，要用and。\n",
    "\n",
    "score = eval(input(\"請輸入總成績....\"))\n",
    "\n",
    "if score >= 90:\n",
    "    print('A')\n",
    "elif score < 90 and score >= 80:\n",
    "    print('B')\n",
    "elif score < 80 and score >= 70:\n",
    "    print('C')\n",
    "elif score < 70 and score <= 60:\n",
    "    print('D')\n",
    "else:\n",
    "    print('E')"
   ]
  },
  {
   "cell_type": "code",
   "execution_count": 1,
   "metadata": {},
   "outputs": [
    {
     "name": "stdout",
     "output_type": "stream",
     "text": [
      "i is: 1\n",
      "i is: 2\n",
      "i is: 3\n",
      "i is: 4\n",
      "i is: 5\n",
      "i is: 6\n",
      "i is: 7\n",
      "i is: 8\n",
      "i is: 9\n",
      "i is: 11\n",
      "i is: 12\n",
      "i is: 13\n",
      "i is: 14\n"
     ]
    }
   ],
   "source": [
    "i = 0\n",
    "while True:\n",
    "    i += 1  \n",
    "    if i == 10: \n",
    "        continue         #不判斷而是回到迴圈, 執行下一個數字\n",
    "    elif i == 15:\n",
    "        break            #強制停止迴圈\n",
    "    print('i is: {}'.format(i))"
   ]
  },
  {
   "cell_type": "code",
   "execution_count": 9,
   "metadata": {},
   "outputs": [
    {
     "data": {
      "text/plain": [
       "time.struct_time(tm_year=2021, tm_mon=3, tm_mday=10, tm_hour=2, tm_min=27, tm_sec=36, tm_wday=2, tm_yday=69, tm_isdst=0)"
      ]
     },
     "execution_count": 9,
     "metadata": {},
     "output_type": "execute_result"
    }
   ],
   "source": [
    "import time\n",
    "time.gmtime()\n"
   ]
  },
  {
   "cell_type": "markdown",
   "metadata": {},
   "source": [
    "## EXERCISE"
   ]
  },
  {
   "cell_type": "markdown",
   "metadata": {},
   "source": [
    "1. You are driving a little too fast, and a police officer stops you. <br/>\n",
    "   Write a function to return one of 3 possible results: <br/> \n",
    "   \"No ticket\", \"Small ticket\", or \"Big Ticket\".\n",
    "  \n",
    "   - If your speed is 60 or less, the result is \"No Ticket\". \n",
    "   - If speed is between 61 and 80 inclusive, the result is \"Small Ticket\". \n",
    "   - If speed is 81 or more, the result is \"Big Ticket\". \n",
    "\n",
    "   Unless it is your birthday (encoded as a boolean value in the parameters of the function) -- on your birthday, your speed can be 5 higher in all cases."
   ]
  },
  {
   "cell_type": "code",
   "execution_count": 11,
   "metadata": {},
   "outputs": [
    {
     "name": "stdout",
     "output_type": "stream",
     "text": [
      "is it your birthday?(T/F):t\n",
      "input your speed:65\n",
      "No Ticket\n"
     ]
    }
   ],
   "source": [
    "def main():\n",
    "    result()\n",
    "    \n",
    "def result():\n",
    "    bl=input('is it your birthday?(T/F):')\n",
    "    speed=eval(input('input your speed:'))\n",
    "    \n",
    "    if bl == 'F' or bl == 'f':\n",
    "        if speed <= 60 :\n",
    "            print('No Ticket')\n",
    "        elif speed <= 80 and speed >60 : \n",
    "            print('Small Ticket')\n",
    "        else: \n",
    "            print('Big Ticket')\n",
    "        \n",
    "    elif bl == 'T' or bl == 't' :\n",
    "        if speed <= 65 :\n",
    "            print('No Ticket')\n",
    "        elif speed <= 85 and speed >65 : \n",
    "            print('Small Ticket')\n",
    "        else :\n",
    "            print('Big Ticket')\n",
    "    \n",
    " \n",
    "main()\n"
   ]
  },
  {
   "cell_type": "markdown",
   "metadata": {},
   "source": [
    "2. 寫一個函數isPrime, 參數n, 判n是不是質數, 如果是回傳True, 不是回傳False"
   ]
  },
  {
   "cell_type": "code",
   "execution_count": 24,
   "metadata": {},
   "outputs": [
    {
     "name": "stdout",
     "output_type": "stream",
     "text": [
      "input n :9\n",
      "False\n"
     ]
    }
   ],
   "source": [
    "def main():\n",
    "    n=eval(input('input n :'))\n",
    "    print(isPrime(n))\n",
    "    \n",
    "def isPrime(n):\n",
    "    #n=eval(input('input n :'))\n",
    "    if n>2 and n!=1  :\n",
    "        for i in range(2,n):\n",
    "            if n % i == 0 :\n",
    "                return False\n",
    "\n",
    "        return True\n",
    "\n",
    "    elif n == 1:\n",
    "        return False\n",
    "    \n",
    "    else:\n",
    "         return True\n",
    " \n",
    "main()\n",
    "        "
   ]
  },
  {
   "cell_type": "markdown",
   "metadata": {},
   "source": [
    "3. 要求使用者輸入密碼, 並將使用者輸入的密碼儲存於password識別字中, 判斷密碼是否等於<1234>\n",
    "如果密碼是<1234>, 就顯示\"你輸入的密碼正確\"\n",
    "如果密碼不是<1234>, 就顯示\"你輸入的密碼錯誤\""
   ]
  },
  {
   "cell_type": "code",
   "execution_count": null,
   "metadata": {},
   "outputs": [],
   "source": [
    "def main():\n",
    "    password=eval(input('輸入使用者密碼:'))\n",
    "    if password == 1234:\n",
    "        print('你輸入的密碼正確')\n",
    "    else:\n",
    "        print('你輸入的密碼錯誤')\n",
    "        \n",
    "main()"
   ]
  }
 ],
 "metadata": {
  "kernelspec": {
   "display_name": "Python 3",
   "language": "python",
   "name": "python3"
  },
  "language_info": {
   "codemirror_mode": {
    "name": "ipython",
    "version": 3
   },
   "file_extension": ".py",
   "mimetype": "text/x-python",
   "name": "python",
   "nbconvert_exporter": "python",
   "pygments_lexer": "ipython3",
   "version": "3.8.3"
  }
 },
 "nbformat": 4,
 "nbformat_minor": 4
}
